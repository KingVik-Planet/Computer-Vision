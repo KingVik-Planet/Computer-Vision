{
 "cells": [
  {
   "cell_type": "code",
   "execution_count": 7,
   "id": "86613738-50b4-4b54-a304-9b2222f01b8f",
   "metadata": {},
   "outputs": [],
   "source": [
    "#Import cv2\n",
    "\n",
    "import cv2\n",
    "import cv2.gapi.streaming\n",
    "import numpy as np\n",
    "\n",
    "#Reading the Imagery\n",
    "image = cv2.imread(\"images/img.png\")"
   ]
  },
  {
   "cell_type": "code",
   "execution_count": 8,
   "id": "4744ab92-1656-4da3-acba-c86582446427",
   "metadata": {},
   "outputs": [],
   "source": [
    "# Checking if the Image is loaded successfully\n",
    "if image is None:\n",
    "    print(\"Error loading \")\n",
    "else:\n",
    "    cv2.imshow(\"Image\", image)"
   ]
  },
  {
   "cell_type": "code",
   "execution_count": 6,
   "id": "52377cb8-50f2-46b1-b50d-662872e87eed",
   "metadata": {},
   "outputs": [],
   "source": [
    "hsv = cv2.cvtColor(image, cv2.COLOR_RGB2HSV)\n",
    "lower_red = np.array([0, 255, 100])\n",
    "upper_red = np.array([10,255,255])\n",
    "\n",
    "mask = cv2.inRange(hsv, lower_red, upper_red)\n",
    "result = cv2.bitwise_and(image, image, mask=mask)\n",
    "\n",
    "result = cv2.cvtColor(result, cv2.COLOR_HSV2BGR)\n",
    "\n",
    "cv2.imshow(\"Result\", result)\n"
   ]
  },
  {
   "cell_type": "code",
   "execution_count": null,
   "id": "d1b3b32c-3041-4c48-9f6d-b595178bdd40",
   "metadata": {},
   "outputs": [],
   "source": []
  }
 ],
 "metadata": {
  "kernelspec": {
   "display_name": "Python 3 (ipykernel)",
   "language": "python",
   "name": "python3"
  },
  "language_info": {
   "codemirror_mode": {
    "name": "ipython",
    "version": 3
   },
   "file_extension": ".py",
   "mimetype": "text/x-python",
   "name": "python",
   "nbconvert_exporter": "python",
   "pygments_lexer": "ipython3",
   "version": "3.12.4"
  }
 },
 "nbformat": 4,
 "nbformat_minor": 5
}
